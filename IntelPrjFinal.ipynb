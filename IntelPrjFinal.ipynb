{
 "cells": [
  {
   "cell_type": "code",
   "execution_count": 1,
   "id": "ef0a1879-1ea2-48b1-a827-33d39d3377a8",
   "metadata": {},
   "outputs": [],
   "source": [
    "import pandas as pd\n"
   ]
  },
  {
   "cell_type": "code",
   "execution_count": 2,
   "id": "79d74e89-5c56-400c-91b1-68d4d187d103",
   "metadata": {},
   "outputs": [],
   "source": [
    "df = pd.read_csv('DatasetIntel.csv')"
   ]
  },
  {
   "cell_type": "code",
   "execution_count": 3,
   "id": "07c2c08b-5d11-4f13-b872-f5fada05acea",
   "metadata": {},
   "outputs": [
    {
     "data": {
      "text/html": [
       "<div>\n",
       "<style scoped>\n",
       "    .dataframe tbody tr th:only-of-type {\n",
       "        vertical-align: middle;\n",
       "    }\n",
       "\n",
       "    .dataframe tbody tr th {\n",
       "        vertical-align: top;\n",
       "    }\n",
       "\n",
       "    .dataframe thead th {\n",
       "        text-align: right;\n",
       "    }\n",
       "</style>\n",
       "<table border=\"1\" class=\"dataframe\">\n",
       "  <thead>\n",
       "    <tr style=\"text-align: right;\">\n",
       "      <th></th>\n",
       "      <th>category</th>\n",
       "      <th>rating</th>\n",
       "      <th>label</th>\n",
       "      <th>text_</th>\n",
       "    </tr>\n",
       "  </thead>\n",
       "  <tbody>\n",
       "    <tr>\n",
       "      <th>0</th>\n",
       "      <td>Home_and_Kitchen_5</td>\n",
       "      <td>5</td>\n",
       "      <td>0</td>\n",
       "      <td>Love this!  Well made, sturdy, and very comf1t...</td>\n",
       "    </tr>\n",
       "    <tr>\n",
       "      <th>1</th>\n",
       "      <td>Home_and_Kitchen_5</td>\n",
       "      <td>5</td>\n",
       "      <td>0</td>\n",
       "      <td>love it, a great upgrade from the 1iginal.  I'...</td>\n",
       "    </tr>\n",
       "    <tr>\n",
       "      <th>2</th>\n",
       "      <td>Home_and_Kitchen_5</td>\n",
       "      <td>5</td>\n",
       "      <td>0</td>\n",
       "      <td>This pillow saved my back. I love the look and...</td>\n",
       "    </tr>\n",
       "    <tr>\n",
       "      <th>3</th>\n",
       "      <td>Home_and_Kitchen_5</td>\n",
       "      <td>1</td>\n",
       "      <td>0</td>\n",
       "      <td>Missing inf1mation on how to use it, but it is...</td>\n",
       "    </tr>\n",
       "    <tr>\n",
       "      <th>4</th>\n",
       "      <td>Home_and_Kitchen_5</td>\n",
       "      <td>5</td>\n",
       "      <td>0</td>\n",
       "      <td>Very nice set. Good quality. We have had the s...</td>\n",
       "    </tr>\n",
       "  </tbody>\n",
       "</table>\n",
       "</div>"
      ],
      "text/plain": [
       "             category  rating  label  \\\n",
       "0  Home_and_Kitchen_5       5      0   \n",
       "1  Home_and_Kitchen_5       5      0   \n",
       "2  Home_and_Kitchen_5       5      0   \n",
       "3  Home_and_Kitchen_5       1      0   \n",
       "4  Home_and_Kitchen_5       5      0   \n",
       "\n",
       "                                               text_  \n",
       "0  Love this!  Well made, sturdy, and very comf1t...  \n",
       "1  love it, a great upgrade from the 1iginal.  I'...  \n",
       "2  This pillow saved my back. I love the look and...  \n",
       "3  Missing inf1mation on how to use it, but it is...  \n",
       "4  Very nice set. Good quality. We have had the s...  "
      ]
     },
     "execution_count": 3,
     "metadata": {},
     "output_type": "execute_result"
    }
   ],
   "source": [
    "df.head()"
   ]
  },
  {
   "cell_type": "code",
   "execution_count": 4,
   "id": "84c18185-7c2a-4206-904d-c4344b6afa15",
   "metadata": {},
   "outputs": [],
   "source": [
    "\n",
    "df['label'] = df['label'].fillna(0)\n",
    "df['label'] = df['label'].astype(int)\n"
   ]
  },
  {
   "cell_type": "code",
   "execution_count": 5,
   "id": "99969bdd-1c11-42ff-a164-1a1519bd5f62",
   "metadata": {},
   "outputs": [
    {
     "name": "stdout",
     "output_type": "stream",
     "text": [
      "Accuracy: 0.82\n"
     ]
    }
   ],
   "source": [
    "from sklearn.naive_bayes import MultinomialNB\n",
    "from sklearn.feature_extraction.text import TfidfVectorizer\n",
    "from sklearn.model_selection import train_test_split\n",
    "from sklearn.metrics import accuracy_score\n",
    "\n",
    "X_train, X_test, y_train, y_test = train_test_split(df['text_'], df['label'], test_size=0.25)\n",
    "\n",
    "vectorizer = TfidfVectorizer()\n",
    "X_train = vectorizer.fit_transform(X_train)\n",
    "X_test = vectorizer.transform(X_test)\n",
    "\n",
    "classifier = MultinomialNB()\n",
    "classifier.fit(X_train, y_train)\n",
    "\n",
    "y_pred = classifier.predict(X_test)\n",
    "\n",
    "naccuracy = accuracy_score(y_test, y_pred)\n",
    "print(f\"Accuracy: {naccuracy:.2f}\")\n"
   ]
  },
  {
   "cell_type": "code",
   "execution_count": 6,
   "id": "054147c9-80ad-45e4-8ac9-e3998fe0d45b",
   "metadata": {},
   "outputs": [
    {
     "name": "stderr",
     "output_type": "stream",
     "text": [
      "Intel(R) Extension for Scikit-learn* enabled (https://github.com/intel/scikit-learn-intelex)\n"
     ]
    },
    {
     "name": "stdout",
     "output_type": "stream",
     "text": [
      "Accuracy: 0.81\n"
     ]
    }
   ],
   "source": [
    "from sklearn.naive_bayes import MultinomialNB\n",
    "from sklearn.feature_extraction.text import TfidfVectorizer\n",
    "from sklearn.model_selection import train_test_split\n",
    "from sklearn.metrics import accuracy_score\n",
    "from sklearnex import patch_sklearn\n",
    "patch_sklearn()\n",
    "\n",
    "X_train, X_test, y_train, y_test = train_test_split(df['text_'], df['label'], test_size=0.25)\n",
    "\n",
    "vectorizer = TfidfVectorizer()\n",
    "X_train = vectorizer.fit_transform(X_train)\n",
    "X_test = vectorizer.transform(X_test)\n",
    "\n",
    "classifier = MultinomialNB()\n",
    "classifier.fit(X_train, y_train)\n",
    "\n",
    "y_pred = classifier.predict(X_test)\n",
    "\n",
    "naccuracy = accuracy_score(y_test, y_pred)\n",
    "print(f\"Accuracy: {naccuracy:.2f}\")\n"
   ]
  },
  {
   "cell_type": "code",
   "execution_count": 7,
   "id": "8efad5cd-5d30-4454-a11e-3395365a4892",
   "metadata": {},
   "outputs": [
    {
     "name": "stdout",
     "output_type": "stream",
     "text": [
      "Accuracy: 0.90\n"
     ]
    }
   ],
   "source": [
    "# prompt: find accuracy using svm\n",
    "\n",
    "from sklearn.svm import SVC\n",
    "classifier = SVC()\n",
    "classifier.fit(X_train, y_train)\n",
    "y_pred = classifier.predict(X_test)\n",
    "saccuracy = accuracy_score(y_test, y_pred)\n",
    "print(f\"Accuracy: {saccuracy:.2f}\")\n"
   ]
  },
  {
   "cell_type": "code",
   "execution_count": 8,
   "id": "b79eb5aa-4481-4546-be89-2a8ec287f9d6",
   "metadata": {},
   "outputs": [
    {
     "name": "stderr",
     "output_type": "stream",
     "text": [
      "Intel(R) Extension for Scikit-learn* enabled (https://github.com/intel/scikit-learn-intelex)\n"
     ]
    },
    {
     "name": "stdout",
     "output_type": "stream",
     "text": [
      "Accuracy: 0.90\n"
     ]
    }
   ],
   "source": [
    "# prompt: find accuracy using svm\n",
    "\n",
    "from sklearn.svm import SVC\n",
    "from sklearnex import patch_sklearn\n",
    "patch_sklearn()\n",
    "\n",
    "classifier = SVC()\n",
    "classifier.fit(X_train, y_train)\n",
    "y_pred = classifier.predict(X_test)\n",
    "saccuracy = accuracy_score(y_test, y_pred)\n",
    "print(f\"Accuracy: {saccuracy:.2f}\")\n"
   ]
  },
  {
   "cell_type": "code",
   "execution_count": 9,
   "id": "d673d3cb-995c-4fdd-b43d-b1e81c06a28f",
   "metadata": {},
   "outputs": [
    {
     "name": "stdout",
     "output_type": "stream",
     "text": [
      "Accuracy: 0.88\n"
     ]
    }
   ],
   "source": [
    "# prompt: find accuracy using logistic regression\n",
    "\n",
    "from sklearn.linear_model import LogisticRegression\n",
    "classifier = LogisticRegression()\n",
    "classifier.fit(X_train, y_train)\n",
    "y_pred = classifier.predict(X_test)\n",
    "laccuracy = accuracy_score(y_test, y_pred)\n",
    "print(f\"Accuracy: {laccuracy:.2f}\")\n"
   ]
  },
  {
   "cell_type": "code",
   "execution_count": 10,
   "id": "a014e394-bb9f-4ed7-96c4-f2dcd3561560",
   "metadata": {},
   "outputs": [
    {
     "name": "stdout",
     "output_type": "stream",
     "text": [
      "Accuracy: 0.88\n"
     ]
    },
    {
     "name": "stderr",
     "output_type": "stream",
     "text": [
      "Intel(R) Extension for Scikit-learn* enabled (https://github.com/intel/scikit-learn-intelex)\n"
     ]
    }
   ],
   "source": [
    "# prompt: find accuracy using logistic regression\n",
    "\n",
    "from sklearn.linear_model import LogisticRegression\n",
    "from sklearnex import patch_sklearn\n",
    "patch_sklearn()\n",
    "\n",
    "classifier = LogisticRegression()\n",
    "classifier.fit(X_train, y_train)\n",
    "y_pred = classifier.predict(X_test)\n",
    "laccuracy = accuracy_score(y_test, y_pred)\n",
    "print(f\"Accuracy: {laccuracy:.2f}\")\n"
   ]
  },
  {
   "cell_type": "code",
   "execution_count": 11,
   "id": "ba600753-cd50-4bb1-bd78-245bc4f00282",
   "metadata": {},
   "outputs": [
    {
     "name": "stdout",
     "output_type": "stream",
     "text": [
      "Accuracy: 0.86\n"
     ]
    }
   ],
   "source": [
    "# prompt: find accuracy using random forest\n",
    "\n",
    "from sklearn.ensemble import RandomForestClassifier\n",
    "classifier = RandomForestClassifier()\n",
    "classifier.fit(X_train, y_train)\n",
    "y_pred = classifier.predict(X_test)\n",
    "raccuracy = accuracy_score(y_test, y_pred)\n",
    "print(f\"Accuracy: {raccuracy:.2f}\")\n"
   ]
  },
  {
   "cell_type": "code",
   "execution_count": 12,
   "id": "7fa0a2e5-5c08-4926-9b61-387073832c35",
   "metadata": {},
   "outputs": [
    {
     "name": "stderr",
     "output_type": "stream",
     "text": [
      "Intel(R) Extension for Scikit-learn* enabled (https://github.com/intel/scikit-learn-intelex)\n"
     ]
    },
    {
     "name": "stdout",
     "output_type": "stream",
     "text": [
      "Accuracy: 0.86\n"
     ]
    }
   ],
   "source": [
    "# prompt: find accuracy using random forest\n",
    "\n",
    "from sklearn.ensemble import RandomForestClassifier\n",
    "from sklearnex import patch_sklearn\n",
    "patch_sklearn()\n",
    "\n",
    "classifier = RandomForestClassifier()\n",
    "classifier.fit(X_train, y_train)\n",
    "y_pred = classifier.predict(X_test)\n",
    "raccuracy = accuracy_score(y_test, y_pred)\n",
    "print(f\"Accuracy: {raccuracy:.2f}\")\n"
   ]
  },
  {
   "cell_type": "code",
   "execution_count": 13,
   "id": "52c7bc2d-b3ad-4d4e-820a-e43f0f359ce2",
   "metadata": {},
   "outputs": [
    {
     "name": "stdout",
     "output_type": "stream",
     "text": [
      "Defaulting to user installation because normal site-packages is not writeable\n",
      "Requirement already satisfied: scikit-learn in /opt/intel/oneapi/intelpython/python3.9/lib/python3.9/site-packages (1.2.2)\n",
      "Requirement already satisfied: numpy>=1.17.3 in /opt/intel/oneapi/intelpython/python3.9/lib/python3.9/site-packages (from scikit-learn) (1.24.3)\n",
      "Requirement already satisfied: scipy>=1.3.2 in /opt/intel/oneapi/intelpython/python3.9/lib/python3.9/site-packages (from scikit-learn) (1.10.1)\n",
      "Requirement already satisfied: joblib>=1.1.1 in /opt/intel/oneapi/intelpython/python3.9/lib/python3.9/site-packages (from scikit-learn) (1.2.0)\n",
      "Requirement already satisfied: threadpoolctl>=2.0.0 in /opt/intel/oneapi/intelpython/python3.9/lib/python3.9/site-packages (from scikit-learn) (3.1.0)\n"
     ]
    }
   ],
   "source": [
    "!pip install scikit-learn"
   ]
  },
  {
   "cell_type": "code",
   "execution_count": 14,
   "id": "cb722a39-6c75-4ed3-8bf4-9ac2e815edc8",
   "metadata": {},
   "outputs": [
    {
     "name": "stdout",
     "output_type": "stream",
     "text": [
      "Accuracy: 0.76\n"
     ]
    }
   ],
   "source": [
    "# prompt: find accuracy using decision tree model\n",
    "\n",
    "from sklearn.tree import DecisionTreeClassifier\n",
    "classifier = DecisionTreeClassifier()\n",
    "classifier.fit(X_train, y_train)\n",
    "y_pred = classifier.predict(X_test)\n",
    "daccuracy = accuracy_score(y_test, y_pred)\n",
    "print(f\"Accuracy: {daccuracy:.2f}\")\n"
   ]
  },
  {
   "cell_type": "code",
   "execution_count": 15,
   "id": "c43afe65-8966-4e07-b319-4eb21c703faa",
   "metadata": {},
   "outputs": [
    {
     "name": "stderr",
     "output_type": "stream",
     "text": [
      "Intel(R) Extension for Scikit-learn* enabled (https://github.com/intel/scikit-learn-intelex)\n"
     ]
    },
    {
     "name": "stdout",
     "output_type": "stream",
     "text": [
      "Accuracy: 0.77\n"
     ]
    }
   ],
   "source": [
    "# prompt: find accuracy using decision tree model\n",
    "\n",
    "from sklearn.tree import DecisionTreeClassifier\n",
    "from sklearnex import patch_sklearn\n",
    "patch_sklearn()\n",
    "\n",
    "classifier = DecisionTreeClassifier()\n",
    "classifier.fit(X_train, y_train)\n",
    "y_pred = classifier.predict(X_test)\n",
    "daccuracy = accuracy_score(y_test, y_pred)\n",
    "print(f\"Accuracy: {daccuracy:.2f}\")\n"
   ]
  },
  {
   "cell_type": "code",
   "execution_count": 16,
   "id": "1369ca3c-9e23-40bc-a0af-5ff930f6ee43",
   "metadata": {},
   "outputs": [
    {
     "data": {
      "image/png": "[encoded data removed]",
      "text/plain": [
       "<Figure size 640x480 with 1 Axes>"
      ]
     },
     "metadata": {},
     "output_type": "display_data"
    }
   ],
   "source": [
    "# prompt: plot the accuracies using bar chart for the above 5 models\n",
    "\n",
    "import matplotlib.pyplot as plt\n",
    "accuracies = [naccuracy, saccuracy, laccuracy, raccuracy, daccuracy]\n",
    "models = ['MultinomialNB', 'SVC', 'Logistic', 'RandomForest', 'DecisionTree']\n",
    "plt.bar(models, accuracies)\n",
    "plt.xlabel('Model')\n",
    "plt.ylabel('Accuracy')\n",
    "plt.title('Accuracy of Different Models')\n",
    "plt.show()\n"
   ]
  },
  {
   "cell_type": "code",
   "execution_count": 17,
   "id": "c11f2ccd-1399-4d12-a6a6-da8c43bf96c6",
   "metadata": {},
   "outputs": [
    {
     "name": "stderr",
     "output_type": "stream",
     "text": [
      "Intel(R) Extension for Scikit-learn* enabled (https://github.com/intel/scikit-learn-intelex)\n"
     ]
    },
    {
     "data": {
      "image/png": "[encoded data removed]",
      "text/plain": [
       "<Figure size 640x480 with 1 Axes>"
      ]
     },
     "metadata": {},
     "output_type": "display_data"
    }
   ],
   "source": [
    "# prompt: plot the accuracies using bar chart for the above 5 models\n",
    "\n",
    "import matplotlib.pyplot as plt\n",
    "from sklearnex import patch_sklearn\n",
    "patch_sklearn()\n",
    "\n",
    "accuracies = [naccuracy, saccuracy, laccuracy, raccuracy, daccuracy]\n",
    "models = ['MultinomialNB', 'SVC', 'Logistic', 'RandomForest', 'DecisionTree']\n",
    "plt.bar(models, accuracies)\n",
    "plt.xlabel('Model')\n",
    "plt.ylabel('Accuracy')\n",
    "plt.title('Accuracy of Different Models')\n",
    "plt.show()\n"
   ]
  },
  {
   "cell_type": "code",
   "execution_count": 18,
   "id": "72748173-caa3-4f04-a681-f7fa1add4268",
   "metadata": {},
   "outputs": [
    {
     "name": "stdout",
     "output_type": "stream",
     "text": [
      "Defaulting to user installation because normal site-packages is not writeable\n",
      "Requirement already satisfied: gradio in /home/u7db7d08f9b4feb193bf301af6ac3f1b/.local/lib/python3.11/site-packages (4.12.0)\n",
      "Requirement already satisfied: aiofiles<24.0,>=22.0 in /home/u7db7d08f9b4feb193bf301af6ac3f1b/.local/lib/python3.11/site-packages (from gradio) (23.2.1)\n",
      "Requirement already satisfied: altair<6.0,>=4.2.0 in /home/u7db7d08f9b4feb193bf301af6ac3f1b/.local/lib/python3.11/site-packages (from gradio) (5.2.0)\n",
      "Requirement already satisfied: fastapi in /home/u7db7d08f9b4feb193bf301af6ac3f1b/.local/lib/python3.11/site-packages (from gradio) (0.108.0)\n",
      "Requirement already satisfied: ffmpy in /home/u7db7d08f9b4feb193bf301af6ac3f1b/.local/lib/python3.11/site-packages (from gradio) (0.3.1)\n",
      "Requirement already satisfied: gradio-client==0.8.0 in /home/u7db7d08f9b4feb193bf301af6ac3f1b/.local/lib/python3.11/site-packages (from gradio) (0.8.0)\n",
      "Requirement already satisfied: httpx in /home/u7db7d08f9b4feb193bf301af6ac3f1b/.local/lib/python3.11/site-packages (from gradio) (0.26.0)\n",
      "Requirement already satisfied: huggingface-hub>=0.19.3 in /home/u7db7d08f9b4feb193bf301af6ac3f1b/.local/lib/python3.11/site-packages (from gradio) (0.20.1)\n",
      "Requirement already satisfied: importlib-resources<7.0,>=1.3 in /home/u7db7d08f9b4feb193bf301af6ac3f1b/.local/lib/python3.11/site-packages (from gradio) (6.1.1)\n",
      "Requirement already satisfied: jinja2<4.0 in /srv/jupyter/python-venv/lib/python3.11/site-packages (from gradio) (3.1.2)\n",
      "Requirement already satisfied: markupsafe~=2.0 in /srv/jupyter/python-venv/lib/python3.11/site-packages (from gradio) (2.1.3)\n",
      "Requirement already satisfied: matplotlib~=3.0 in /home/u7db7d08f9b4feb193bf301af6ac3f1b/.local/lib/python3.11/site-packages (from gradio) (3.8.2)\n",
      "Requirement already satisfied: numpy~=1.0 in /home/u7db7d08f9b4feb193bf301af6ac3f1b/.local/lib/python3.11/site-packages (from gradio) (1.26.2)\n",
      "Requirement already satisfied: orjson~=3.0 in /home/u7db7d08f9b4feb193bf301af6ac3f1b/.local/lib/python3.11/site-packages (from gradio) (3.9.10)\n",
      "Requirement already satisfied: packaging in /srv/jupyter/python-venv/lib/python3.11/site-packages (from gradio) (23.1)\n",
      "Requirement already satisfied: pandas<3.0,>=1.0 in /home/u7db7d08f9b4feb193bf301af6ac3f1b/.local/lib/python3.11/site-packages (from gradio) (2.1.4)\n",
      "Requirement already satisfied: pillow<11.0,>=8.0 in /home/u7db7d08f9b4feb193bf301af6ac3f1b/.local/lib/python3.11/site-packages (from gradio) (10.1.0)\n",
      "Requirement already satisfied: pydantic>=2.0 in /srv/jupyter/python-venv/lib/python3.11/site-packages (from gradio) (2.3.0)\n",
      "Requirement already satisfied: pydub in /home/u7db7d08f9b4feb193bf301af6ac3f1b/.local/lib/python3.11/site-packages (from gradio) (0.25.1)\n",
      "Requirement already satisfied: python-multipart in /home/u7db7d08f9b4feb193bf301af6ac3f1b/.local/lib/python3.11/site-packages (from gradio) (0.0.6)\n",
      "Requirement already satisfied: pyyaml<7.0,>=5.0 in /srv/jupyter/python-venv/lib/python3.11/site-packages (from gradio) (6.0.1)\n",
      "Requirement already satisfied: semantic-version~=2.0 in /home/u7db7d08f9b4feb193bf301af6ac3f1b/.local/lib/python3.11/site-packages (from gradio) (2.10.0)\n",
      "Requirement already satisfied: tomlkit==0.12.0 in /home/u7db7d08f9b4feb193bf301af6ac3f1b/.local/lib/python3.11/site-packages (from gradio) (0.12.0)\n",
      "Requirement already satisfied: typer[all]<1.0,>=0.9 in /home/u7db7d08f9b4feb193bf301af6ac3f1b/.local/lib/python3.11/site-packages (from gradio) (0.9.0)\n",
      "Requirement already satisfied: typing-extensions~=4.0 in /srv/jupyter/python-venv/lib/python3.11/site-packages (from gradio) (4.8.0)\n",
      "Requirement already satisfied: uvicorn>=0.14.0 in /home/u7db7d08f9b4feb193bf301af6ac3f1b/.local/lib/python3.11/site-packages (from gradio) (0.25.0)\n",
      "Requirement already satisfied: fsspec in /home/u7db7d08f9b4feb193bf301af6ac3f1b/.local/lib/python3.11/site-packages (from gradio-client==0.8.0->gradio) (2023.12.2)\n",
      "Requirement already satisfied: websockets<12.0,>=10.0 in /home/u7db7d08f9b4feb193bf301af6ac3f1b/.local/lib/python3.11/site-packages (from gradio-client==0.8.0->gradio) (11.0.3)\n",
      "Requirement already satisfied: jsonschema>=3.0 in /srv/jupyter/python-venv/lib/python3.11/site-packages (from altair<6.0,>=4.2.0->gradio) (4.19.1)\n",
      "Requirement already satisfied: toolz in /home/u7db7d08f9b4feb193bf301af6ac3f1b/.local/lib/python3.11/site-packages (from altair<6.0,>=4.2.0->gradio) (0.12.0)\n",
      "Requirement already satisfied: filelock in /home/u7db7d08f9b4feb193bf301af6ac3f1b/.local/lib/python3.11/site-packages (from huggingface-hub>=0.19.3->gradio) (3.13.1)\n",
      "Requirement already satisfied: requests in /srv/jupyter/python-venv/lib/python3.11/site-packages (from huggingface-hub>=0.19.3->gradio) (2.31.0)\n",
      "Requirement already satisfied: tqdm>=4.42.1 in /home/u7db7d08f9b4feb193bf301af6ac3f1b/.local/lib/python3.11/site-packages (from huggingface-hub>=0.19.3->gradio) (4.66.1)\n",
      "Requirement already satisfied: contourpy>=1.0.1 in /home/u7db7d08f9b4feb193bf301af6ac3f1b/.local/lib/python3.11/site-packages (from matplotlib~=3.0->gradio) (1.2.0)\n",
      "Requirement already satisfied: cycler>=0.10 in /home/u7db7d08f9b4feb193bf301af6ac3f1b/.local/lib/python3.11/site-packages (from matplotlib~=3.0->gradio) (0.12.1)\n",
      "Requirement already satisfied: fonttools>=4.22.0 in /home/u7db7d08f9b4feb193bf301af6ac3f1b/.local/lib/python3.11/site-packages (from matplotlib~=3.0->gradio) (4.47.0)\n",
      "Requirement already satisfied: kiwisolver>=1.3.1 in /home/u7db7d08f9b4feb193bf301af6ac3f1b/.local/lib/python3.11/site-packages (from matplotlib~=3.0->gradio) (1.4.5)\n",
      "Requirement already satisfied: pyparsing>=2.3.1 in /home/u7db7d08f9b4feb193bf301af6ac3f1b/.local/lib/python3.11/site-packages (from matplotlib~=3.0->gradio) (3.1.1)\n",
      "Requirement already satisfied: python-dateutil>=2.7 in /srv/jupyter/python-venv/lib/python3.11/site-packages (from matplotlib~=3.0->gradio) (2.8.2)\n",
      "Requirement already satisfied: pytz>=2020.1 in /home/u7db7d08f9b4feb193bf301af6ac3f1b/.local/lib/python3.11/site-packages (from pandas<3.0,>=1.0->gradio) (2023.3.post1)\n",
      "Requirement already satisfied: tzdata>=2022.1 in /home/u7db7d08f9b4feb193bf301af6ac3f1b/.local/lib/python3.11/site-packages (from pandas<3.0,>=1.0->gradio) (2023.3)\n",
      "Requirement already satisfied: annotated-types>=0.4.0 in /srv/jupyter/python-venv/lib/python3.11/site-packages (from pydantic>=2.0->gradio) (0.5.0)\n",
      "Requirement already satisfied: pydantic-core==2.6.3 in /srv/jupyter/python-venv/lib/python3.11/site-packages (from pydantic>=2.0->gradio) (2.6.3)\n",
      "Requirement already satisfied: click<9.0.0,>=7.1.1 in /home/u7db7d08f9b4feb193bf301af6ac3f1b/.local/lib/python3.11/site-packages (from typer[all]<1.0,>=0.9->gradio) (8.1.7)\n",
      "Requirement already satisfied: colorama<0.5.0,>=0.4.3 in /home/u7db7d08f9b4feb193bf301af6ac3f1b/.local/lib/python3.11/site-packages (from typer[all]<1.0,>=0.9->gradio) (0.4.6)\n",
      "Requirement already satisfied: shellingham<2.0.0,>=1.3.0 in /home/u7db7d08f9b4feb193bf301af6ac3f1b/.local/lib/python3.11/site-packages (from typer[all]<1.0,>=0.9->gradio) (1.5.4)\n",
      "Requirement already satisfied: rich<14.0.0,>=10.11.0 in /home/u7db7d08f9b4feb193bf301af6ac3f1b/.local/lib/python3.11/site-packages (from typer[all]<1.0,>=0.9->gradio) (13.7.0)\n",
      "Requirement already satisfied: h11>=0.8 in /home/u7db7d08f9b4feb193bf301af6ac3f1b/.local/lib/python3.11/site-packages (from uvicorn>=0.14.0->gradio) (0.14.0)\n",
      "Requirement already satisfied: starlette<0.33.0,>=0.29.0 in /home/u7db7d08f9b4feb193bf301af6ac3f1b/.local/lib/python3.11/site-packages (from fastapi->gradio) (0.32.0.post1)\n",
      "Requirement already satisfied: anyio in /srv/jupyter/python-venv/lib/python3.11/site-packages (from httpx->gradio) (4.0.0)\n",
      "Requirement already satisfied: certifi in /srv/jupyter/python-venv/lib/python3.11/site-packages (from httpx->gradio) (2023.7.22)\n",
      "Requirement already satisfied: httpcore==1.* in /home/u7db7d08f9b4feb193bf301af6ac3f1b/.local/lib/python3.11/site-packages (from httpx->gradio) (1.0.2)\n",
      "Requirement already satisfied: idna in /srv/jupyter/python-venv/lib/python3.11/site-packages (from httpx->gradio) (3.4)\n",
      "Requirement already satisfied: sniffio in /srv/jupyter/python-venv/lib/python3.11/site-packages (from httpx->gradio) (1.3.0)\n",
      "Requirement already satisfied: attrs>=22.2.0 in /srv/jupyter/python-venv/lib/python3.11/site-packages (from jsonschema>=3.0->altair<6.0,>=4.2.0->gradio) (23.1.0)\n",
      "Requirement already satisfied: jsonschema-specifications>=2023.03.6 in /srv/jupyter/python-venv/lib/python3.11/site-packages (from jsonschema>=3.0->altair<6.0,>=4.2.0->gradio) (2023.7.1)\n",
      "Requirement already satisfied: referencing>=0.28.4 in /srv/jupyter/python-venv/lib/python3.11/site-packages (from jsonschema>=3.0->altair<6.0,>=4.2.0->gradio) (0.30.2)\n",
      "Requirement already satisfied: rpds-py>=0.7.1 in /srv/jupyter/python-venv/lib/python3.11/site-packages (from jsonschema>=3.0->altair<6.0,>=4.2.0->gradio) (0.10.3)\n",
      "Requirement already satisfied: six>=1.5 in /srv/jupyter/python-venv/lib/python3.11/site-packages (from python-dateutil>=2.7->matplotlib~=3.0->gradio) (1.16.0)\n",
      "Requirement already satisfied: markdown-it-py>=2.2.0 in /home/u7db7d08f9b4feb193bf301af6ac3f1b/.local/lib/python3.11/site-packages (from rich<14.0.0,>=10.11.0->typer[all]<1.0,>=0.9->gradio) (3.0.0)\n",
      "Requirement already satisfied: pygments<3.0.0,>=2.13.0 in /srv/jupyter/python-venv/lib/python3.11/site-packages (from rich<14.0.0,>=10.11.0->typer[all]<1.0,>=0.9->gradio) (2.16.1)\n",
      "Requirement already satisfied: charset-normalizer<4,>=2 in /srv/jupyter/python-venv/lib/python3.11/site-packages (from requests->huggingface-hub>=0.19.3->gradio) (3.2.0)\n",
      "Requirement already satisfied: urllib3<3,>=1.21.1 in /srv/jupyter/python-venv/lib/python3.11/site-packages (from requests->huggingface-hub>=0.19.3->gradio) (2.0.5)\n",
      "Requirement already satisfied: mdurl~=0.1 in /home/u7db7d08f9b4feb193bf301af6ac3f1b/.local/lib/python3.11/site-packages (from markdown-it-py>=2.2.0->rich<14.0.0,>=10.11.0->typer[all]<1.0,>=0.9->gradio) (0.1.2)\n",
      "\n",
      "\u001b[1m[\u001b[0m\u001b[34;49mnotice\u001b[0m\u001b[1;39;49m]\u001b[0m\u001b[39;49m A new release of pip is available: \u001b[0m\u001b[31;49m23.2.1\u001b[0m\u001b[39;49m -> \u001b[0m\u001b[32;49m23.3.2\u001b[0m\n",
      "\u001b[1m[\u001b[0m\u001b[34;49mnotice\u001b[0m\u001b[1;39;49m]\u001b[0m\u001b[39;49m To update, run: \u001b[0m\u001b[32;49m/srv/jupyter/python-venv/bin/python3 -m pip install --upgrade pip\u001b[0m\n",
      "Note: you may need to restart the kernel to use updated packages.\n"
     ]
    }
   ],
   "source": [
    "pip install gradio"
   ]
  },
  {
   "cell_type": "code",
   "execution_count": null,
   "id": "adf6b1cf-a6f4-428b-a006-8de4cb9e53eb",
   "metadata": {},
   "outputs": [],
   "source": [
    "# Import necessary libraries\n",
    "import gradio as gr\n",
    "from sklearn.svm import SVC\n",
    "from sklearn.feature_extraction.text import TfidfVectorizer\n",
    "from sklearn.model_selection import train_test_split\n",
    "from sklearn.metrics import accuracy_score\n",
    "import pandas as pd\n",
    "\n",
    "# Load the dataset\n",
    "df = pd.read_csv('DatasetIntel.csv')\n",
    "\n",
    "# Handle missing values in the label column and convert to int\n",
    "df['label'] = df['label'].fillna(0)\n",
    "df['label'] = df['label'].astype(int)\n",
    "\n",
    "# Split the dataset into train and test sets\n",
    "X_train, X_test, y_train, y_test = train_test_split(df['text_'], df['label'], test_size=0.25)\n",
    "\n",
    "# Vectorize the text data\n",
    "vectorizer = TfidfVectorizer()\n",
    "X_train = vectorizer.fit_transform(X_train)\n",
    "X_test = vectorizer.transform(X_test)\n",
    "\n",
    "# Create an SVM classifier\n",
    "classifier = SVC()\n",
    "classifier.fit(X_train, y_train)\n",
    "\n",
    "# Define the Gradio interface\n",
    "def predict_authenticity(review):\n",
    "    # Convert the review to a vector of features\n",
    "    review_vector = vectorizer.transform([review])\n",
    "\n",
    "    # Make a prediction using the SVM classifier\n",
    "    prediction = classifier.predict(review_vector)\n",
    "\n",
    "    # Return the prediction as a string label\n",
    "    return \"Genuine Review\" if prediction[0] == 1 else \"Fake Review\"\n",
    "\n",
    "# Create the Gradio interface\n",
    "interface = gr.Interface(fn=predict_authenticity, inputs=gr.Textbox(label=\"Enter Review\"), outputs=gr.Label(label=\"Predicted Authenticity\"))\n",
    "\n",
    "# Launch the Gradio interface\n",
    "interface.launch(share=True)\n"
   ]
  }
 ],
 "metadata": {
  "kernelspec": {
   "display_name": "Python 3 (ipykernel)",
   "language": "python",
   "name": "python3"
  },
  "language_info": {
   "codemirror_mode": {
    "name": "ipython",
    "version": 3
   },
   "file_extension": ".py",
   "mimetype": "text/x-python",
   "name": "python",
   "nbconvert_exporter": "python",
   "pygments_lexer": "ipython3",
   "version": "3.11.5"
  }
 },
 "nbformat": 4,
 "nbformat_minor": 5
}
